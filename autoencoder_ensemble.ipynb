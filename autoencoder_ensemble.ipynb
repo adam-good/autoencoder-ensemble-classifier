{
 "cells": [
  {
   "cell_type": "markdown",
   "metadata": {},
   "source": [
    "# Autoencoder Ensemble Classification\n",
    "**Author**: Adam Good\n",
    "\n",
    "**description**: This is a proof of concept. The main idea is to create an ensemble of auto encoders where each base encoder is trained to reconstruct one class in particular. For classification, an image is fed to each autoencoder for reconstruction. The reconstructive loss is calculated. In theory, each autoencoder that is *not* trained on the correct class will have high reconstructive loss, whereas the autoencoder trained on the correct class will have a significantly lower reconstructive loss. By choosing the autocoder with the minimum reconstructive loss, the model should choose the proper class.\n",
    "\n",
    "While this option probably takes significantly more training than normal classifiers, it was an interesting idea and may result in high percision classification."
   ]
  },
  {
   "cell_type": "code",
   "execution_count": 1,
   "metadata": {
    "colab": {},
    "colab_type": "code",
    "id": "CjwkV3GWvMca"
   },
   "outputs": [],
   "source": [
    "import torch\n",
    "import torch.nn as nn\n",
    "import torch.nn.functional as F\n",
    "import torch.optim as optim\n",
    "from torch import Tensor\n",
    "from torchvision import datasets, transforms\n",
    "from torch.utils.data import Dataset, DataLoader, random_split, WeightedRandomSampler\n",
    "\n",
    "import numpy as np\n",
    "import pandas as pd\n",
    "from sklearn.model_selection import train_test_split\n",
    "\n",
    "from tqdm.notebook import  tqdm\n",
    "\n",
    "import matplotlib.pyplot as plt\n",
    "\n",
    "SEED=8675309\n",
    "np.random.seed(SEED)\n",
    "\n",
    "%matplotlib inline"
   ]
  },
  {
   "cell_type": "markdown",
   "metadata": {},
   "source": [
    "## Model Design"
   ]
  },
  {
   "cell_type": "markdown",
   "metadata": {},
   "source": [
    "### Fully Connected Auto Encoder\n",
    "\n",
    "**Description**: This is a simple, fully connected autoencoder built for reconstructing an image with values in the range $[0,1]$. This would ideally be good for data similar to MNIST."
   ]
  },
  {
   "cell_type": "code",
   "execution_count": 2,
   "metadata": {},
   "outputs": [],
   "source": [
    "class FCAutoencoder(nn.Module):\n",
    "    \n",
    "    def __init__(self, input_shape, latent_size):\n",
    "        super(FCAutoencoder, self).__init__()\n",
    "        \n",
    "        self.channels, self.in_width, self.in_height = input_shape\n",
    "        self.latent_size = latent_size\n",
    "        \n",
    "        self.encoder = nn.Sequential(\n",
    "            nn.Linear(self.channels * self.in_width * self.in_height, 1024),\n",
    "            nn.ReLU(),\n",
    "            nn.Linear(1024, 512),\n",
    "            nn.ReLU(),\n",
    "            nn.Linear(512, self.latent_size)\n",
    "        )\n",
    "        \n",
    "        self.decoder = nn.Sequential(\n",
    "            nn.Linear(self.latent_size, 512),\n",
    "            nn.ReLU(),\n",
    "            nn.Linear(512, 1024),\n",
    "            nn.ReLU(),\n",
    "            nn.Linear(1024, self.channels * self.in_width * self.in_height),\n",
    "            nn.Sigmoid()\n",
    "        )\n",
    "        \n",
    "    def forward(self, x):\n",
    "        x = x.view(x.shape[0], -1)\n",
    "        x = self.encoder(x)\n",
    "        x = self.decoder(x)\n",
    "        x = x.view(-1, self.channels, self.in_width, self.in_height)\n",
    "        return x\n",
    "        \n"
   ]
  },
  {
   "cell_type": "markdown",
   "metadata": {},
   "source": [
    "### Convolutional Auto Encoder\n",
    "\n",
    "**Description**: This is a convolutional autoencoder. The input is expected to be images of values in the range $[0,1]$."
   ]
  },
  {
   "cell_type": "code",
   "execution_count": 3,
   "metadata": {},
   "outputs": [],
   "source": [
    "# Based on https://github.com/jellycsc/PyTorch-CIFAR-10-autoencoder/blob/master/main.py\n",
    "class ConvAutoencoder(nn.Module):\n",
    "    def __init__(self, input_shape, latent_size):\n",
    "        super(ConvAutoencoder, self).__init__()\n",
    "        \n",
    "        self.channels, self.in_width, self.in_height = input_shape\n",
    "        self.latent_size = latent_size\n",
    "        \n",
    "        self.conv_enc = nn.Sequential(\n",
    "            nn.Conv2d(in_channels=self.channels, out_channels=16, kernel_size=5, padding=2),\n",
    "            nn.ReLU(),\n",
    "#            nn.MaxPool2d(kernel_size=2),\n",
    "            \n",
    "            nn.Conv2d(in_channels=16, out_channels=32, kernel_size=5, padding=2),\n",
    "            nn.ReLU(),\n",
    "#            nn.MaxPool2d(kernel_size=2),\n",
    "            \n",
    "            nn.Conv2d(in_channels=32, out_channels=64, kernel_size=5, padding=2),\n",
    "            nn.ReLU(),\n",
    "#            nn.MaxPool2d(kernel_size=2)\n",
    "        )\n",
    "        \n",
    "        self.fc_enc = nn.Sequential(\n",
    "            nn.Linear(64*self.in_width*self.in_height, 1024),\n",
    "            nn.ReLU(),\n",
    "            nn.Linear(1024,  self.latent_size)\n",
    "        )\n",
    "        \n",
    "        self.fc_dec = nn.Sequential(\n",
    "            nn.Linear(self.latent_size, 1024),\n",
    "            nn.ReLU(),\n",
    "            nn.Linear(1024, 64*self.in_width*self.in_height),\n",
    "            nn.ReLU()\n",
    "        )\n",
    "        \n",
    "        self.conv_dec = nn.Sequential(\n",
    "            nn.ConvTranspose2d(in_channels=64, out_channels=32, kernel_size=5, padding=2),\n",
    "            nn.ReLU(),\n",
    "#            nn.MaxUnpool2d(kernel_size=2),\n",
    "            \n",
    "            nn.ConvTranspose2d(in_channels=32, out_channels=16, kernel_size=5, padding=2),\n",
    "            nn.ReLU(),\n",
    "#            nn.MaxUnpool2d(kernel_size=2),\n",
    "            \n",
    "            nn.ConvTranspose2d(in_channels=16, out_channels=self.channels, kernel_size=5, padding=2),\n",
    "            nn.Sigmoid()\n",
    "        )\n",
    "        \n",
    "    def forward(self, x):\n",
    "        \n",
    "        x = self.conv_enc(x)\n",
    "        shape = x.shape\n",
    "        \n",
    "        x = x.view(x.shape[0], -1)        \n",
    "        \n",
    "        x = self.fc_enc(x)\n",
    "        x = self.fc_dec(x)\n",
    "        x = x.reshape(shape)\n",
    "        x = self.conv_dec(x)\n",
    "        \n",
    "        return x"
   ]
  },
  {
   "cell_type": "markdown",
   "metadata": {},
   "source": [
    "### Autoencoder Ensemble Classifier\n",
    "\n",
    "**Model Description**:\n",
    "\n",
    "Given a dataset of images and labels $ \\mathbb{D} = (\\mathbb{X}, \\mathbb{Y})$ with a set of $n$ classes $C=\\{c_1, c_2, ..., c_n\\}$, construct an autoencoder for each class $E = \\{e_{c_1}, e_{c_2}, ..., e_{c_n} \\}$. By splitting the data by class, train each autoencoder on one class (i.e. train $e_{c_1}$ on class $c_1$, etc.), each autoencoder should learn to reconstruct one specific class well, and not the other classes. In other words, the reconstructive loss of each autoencoder will be low on one class, and significantly higher on all other classes.\n",
    "\n",
    "Regardless of the loss function used to train the individual autoencoders, this model requires a reconstructive loss function $L(\\hat{X}, X)$ that will compute a difference between the input $X$ and the reconstruction $\\hat{X}$. Depending on your data, Mean Squared Error or Binary Cross Entropy could be good options.\n",
    "\n",
    "To classify the data, find the class of the autoencoder that generates the minimum reconstructive loss.\n",
    "$$\n",
    "\\hat{Y} = \\text{argmin}_{i \\in C} L(e_i(X), X)\n",
    "$$"
   ]
  },
  {
   "cell_type": "code",
   "execution_count": 4,
   "metadata": {},
   "outputs": [],
   "source": [
    "class AutoencoderEnsembleClassifier(nn.Module):\n",
    "    \n",
    "    class CostLayer(nn.Module):\n",
    "        def __init__(self, cost_fn):\n",
    "            super(AutoencoderEnsembleClassifier.CostLayer, self).__init__()\n",
    "            self.cost = cost_fn\n",
    "            \n",
    "        def forward(self, r, x):\n",
    "            return self.cost(r,x)\n",
    "    \n",
    "    \n",
    "    def __init__(self, autoencoder_ensemble, recon_cost_fn, max_loss=None):\n",
    "        super(AutoencoderEnsembleClassifier, self).__init__()\n",
    "        self.ensemble = autoencoder_ensemble\n",
    "        self.recon_cost = recon_cost_fn\n",
    "        \n",
    "        self.cost_layer = AutoencoderEnsembleClassifier.CostLayer(recon_cost_fn)\n",
    "        \n",
    "    def normalize_cost(self, c):\n",
    "        pass\n",
    "    \n",
    "    def forward(self, x):\n",
    "        fn = lambda r,x: torch.sum((r - x)**2, dim=1)\n",
    "        \n",
    "        reconstructions = [M(x) for M in self.ensemble]\n",
    "\n",
    "        x_flat = x.view(x.shape[0], -1)\n",
    "        costs = [fn(r.view(x.shape[0], -1) , x_flat) for r in reconstructions]\n",
    "        costs = [torch.unsqueeze(c, dim=0) for c in costs]\n",
    "        costs = torch.cat(costs, dim=0)#.reshape(x.shape[0], len(self.ensemble))\n",
    "        costs = costs.transpose(1,0)\n",
    "        \n",
    "        i = torch.argmin(costs, dim=1)\n",
    "        \n",
    "        return i\n"
   ]
  },
  {
   "cell_type": "markdown",
   "metadata": {},
   "source": [
    "## Experiment"
   ]
  },
  {
   "cell_type": "code",
   "execution_count": 5,
   "metadata": {
    "colab": {},
    "colab_type": "code",
    "id": "0lxpBLBIxk-k"
   },
   "outputs": [],
   "source": [
    "# Here we just define the parameters of the training\n",
    "train_frac = 0.80\n",
    "test_frac = 1-train_frac\n",
    "\n",
    "data='mnist'\n",
    "data_shape = (1,28,28) if data == 'mnist' else (3,32,32)\n",
    "latent_size = 32 if data == 'mnist' else 128\n",
    "\n",
    "batch_size = 256\n",
    "num_epochs = 1 if data == 'mnist' else 10\n",
    "learning_rate = 1e-3"
   ]
  },
  {
   "cell_type": "code",
   "execution_count": 6,
   "metadata": {
    "colab": {},
    "colab_type": "code",
    "id": "tzrbVSxWwC9n"
   },
   "outputs": [],
   "source": [
    "# Here we grab the dataset to train on. In this particular example we're using MNIST\n",
    "#\n",
    "#\n",
    "mnist_mean = 0.1307\n",
    "mnist_stdev = 0.3081\n",
    "\n",
    "mnist_transform = transforms.Compose([\n",
    "                                transforms.ToTensor(),\n",
    "#                                transforms.Normalize((mnist_mean,), (mnist_stdev,))\n",
    "])\n",
    "\n",
    "if data == 'cifar10':\n",
    "    train_set = datasets.CIFAR10('./data', train=True, transform=mnist_transform, download=True)\n",
    "    test_set = datasets.CIFAR10('./data', train=False, transform=mnist_transform, download=True)    \n",
    "elif data == 'mnist':\n",
    "    train_set = datasets.MNIST('./data', train=True, transform=mnist_transform, download=True)\n",
    "    test_set = datasets.MNIST('./data', train=False, transform=mnist_transform, download=True)\n",
    "\n",
    "classes = np.unique(train_set.targets)\n",
    "classes = np.sort(classes)\n",
    "\n",
    "train_loaders = {}\n",
    "test_loaders = {}\n",
    "for i,c in enumerate(classes):\n",
    "    train_weights = train_set.targets == c\n",
    "    train_sampler = WeightedRandomSampler(weights=train_weights, num_samples=len(train_set)) #ClassSampler(train_set, train_set.targets == c)\n",
    "    train_loaders[c] = torch.utils.data.DataLoader(train_set, batch_size=batch_size, sampler=train_sampler, num_workers=4)\n",
    "    \n",
    "    test_weights = test_set.targets == c\n",
    "    test_sampler = WeightedRandomSampler(weights=test_weights, num_samples=len(test_set))\n",
    "    test_loaders[c] = torch.utils.data.DataLoader(test_set, batch_size=batch_size, sampler=test_sampler, num_workers=4)\n",
    "\n",
    "    \n",
    "train_loader = torch.utils.data.DataLoader(train_set, batch_size=batch_size, num_workers=4)\n",
    "test_loader = torch.utils.data.DataLoader(test_set, batch_size=batch_size, num_workers=4)"
   ]
  },
  {
   "cell_type": "code",
   "execution_count": 7,
   "metadata": {
    "colab": {},
    "colab_type": "code",
    "id": "XLhnIoqh69PP"
   },
   "outputs": [],
   "source": [
    "def train(model, dataloader, criterion, optimizer, train=True, verbose=False, epoch_num=None):\n",
    "    if verbose:\n",
    "        loop = tqdm(dataloader)\n",
    "        num_inputs = 0\n",
    "        total_inputs = len(dataloader.dataset)\n",
    "    else:\n",
    "        loop = dataloader\n",
    "        \n",
    "    for data in loop:\n",
    "        img, label = data\n",
    "        reconstruction = model(img)\n",
    "        loss = criterion(reconstruction, img)\n",
    "\n",
    "        optimizer.zero_grad() # TODO: Should this be at the beginning?\n",
    "        loss.backward()\n",
    "        optimizer.step()\n",
    "\n",
    "        if verbose:\n",
    "            num_inputs += img.shape[0]\n",
    "#            loop.write(f'Epoch {epoch_num}: Progress: {num_inputs}/{total_inputs} ~ {num_inputs/total_inputs*100:0.2f}%  Loss={loss.item():0.4f}')\n",
    "            loop.set_description(f'Epoch {epoch_num}: Loss={loss.item():0.4f}')\n",
    "#            loop.set_postfix(f'Progress: {num_inputs}/{total_inputs} ~ {num_inputs/total_inputs*100:0.2f}%  Loss={loss.item():0.4f}')"
   ]
  },
  {
   "cell_type": "code",
   "execution_count": 8,
   "metadata": {},
   "outputs": [],
   "source": [
    "def test(model, dataloader):\n",
    "    accuracy = 0.0\n",
    "    total = 0\n",
    "    \n",
    "    for data in dataloader:\n",
    "        img, label = data\n",
    "        output = model(img)\n",
    "        acc = (output == label).sum()\n",
    "        accuracy += acc\n",
    "        total += len(label)\n",
    "        \n",
    "    accuracy /= total\n",
    "    return accuracy\n",
    "        "
   ]
  },
  {
   "cell_type": "code",
   "execution_count": 9,
   "metadata": {
    "colab": {
     "base_uri": "https://localhost:8080/",
     "height": 51
    },
    "colab_type": "code",
    "id": "YrFBasQTxCeY",
    "outputId": "a9b68070-242b-4e49-a8cc-c73f02b6f2ff"
   },
   "outputs": [
    {
     "name": "stdout",
     "output_type": "stream",
     "text": [
      "Training Base Model on 0\n"
     ]
    },
    {
     "data": {
      "application/vnd.jupyter.widget-view+json": {
       "model_id": "e54d975762af456d83c78f848fba6e35",
       "version_major": 2,
       "version_minor": 0
      },
      "text/plain": [
       "HBox(children=(FloatProgress(value=0.0, max=235.0), HTML(value='')))"
      ]
     },
     "metadata": {},
     "output_type": "display_data"
    },
    {
     "name": "stdout",
     "output_type": "stream",
     "text": [
      "\n",
      "Finished\n",
      "Training Base Model on 1\n"
     ]
    },
    {
     "data": {
      "application/vnd.jupyter.widget-view+json": {
       "model_id": "87d037fa67be436dabe5174b5a2af9ad",
       "version_major": 2,
       "version_minor": 0
      },
      "text/plain": [
       "HBox(children=(FloatProgress(value=0.0, max=235.0), HTML(value='')))"
      ]
     },
     "metadata": {},
     "output_type": "display_data"
    },
    {
     "name": "stdout",
     "output_type": "stream",
     "text": [
      "\n",
      "Finished\n",
      "Training Base Model on 2\n"
     ]
    },
    {
     "data": {
      "application/vnd.jupyter.widget-view+json": {
       "model_id": "eba9a9cac246408cad353ad6d3174b76",
       "version_major": 2,
       "version_minor": 0
      },
      "text/plain": [
       "HBox(children=(FloatProgress(value=0.0, max=235.0), HTML(value='')))"
      ]
     },
     "metadata": {},
     "output_type": "display_data"
    },
    {
     "name": "stdout",
     "output_type": "stream",
     "text": [
      "\n",
      "Finished\n",
      "Training Base Model on 3\n"
     ]
    },
    {
     "data": {
      "application/vnd.jupyter.widget-view+json": {
       "model_id": "8a876e0ed99b4502976cc6dc17f5f2f6",
       "version_major": 2,
       "version_minor": 0
      },
      "text/plain": [
       "HBox(children=(FloatProgress(value=0.0, max=235.0), HTML(value='')))"
      ]
     },
     "metadata": {},
     "output_type": "display_data"
    },
    {
     "name": "stdout",
     "output_type": "stream",
     "text": [
      "\n",
      "Finished\n",
      "Training Base Model on 4\n"
     ]
    },
    {
     "data": {
      "application/vnd.jupyter.widget-view+json": {
       "model_id": "28df6f500f824bd298eb643c7166a54a",
       "version_major": 2,
       "version_minor": 0
      },
      "text/plain": [
       "HBox(children=(FloatProgress(value=0.0, max=235.0), HTML(value='')))"
      ]
     },
     "metadata": {},
     "output_type": "display_data"
    },
    {
     "name": "stdout",
     "output_type": "stream",
     "text": [
      "\n",
      "Finished\n",
      "Training Base Model on 5\n"
     ]
    },
    {
     "data": {
      "application/vnd.jupyter.widget-view+json": {
       "model_id": "4986405978244d0bb51d435224a73603",
       "version_major": 2,
       "version_minor": 0
      },
      "text/plain": [
       "HBox(children=(FloatProgress(value=0.0, max=235.0), HTML(value='')))"
      ]
     },
     "metadata": {},
     "output_type": "display_data"
    },
    {
     "name": "stdout",
     "output_type": "stream",
     "text": [
      "\n",
      "Finished\n",
      "Training Base Model on 6\n"
     ]
    },
    {
     "data": {
      "application/vnd.jupyter.widget-view+json": {
       "model_id": "d73ab8af146a4b45a04404384b3021d2",
       "version_major": 2,
       "version_minor": 0
      },
      "text/plain": [
       "HBox(children=(FloatProgress(value=0.0, max=235.0), HTML(value='')))"
      ]
     },
     "metadata": {},
     "output_type": "display_data"
    },
    {
     "name": "stdout",
     "output_type": "stream",
     "text": [
      "\n",
      "Finished\n",
      "Training Base Model on 7\n"
     ]
    },
    {
     "data": {
      "application/vnd.jupyter.widget-view+json": {
       "model_id": "0d8b3ed18ff04cab8631c29c601e7b75",
       "version_major": 2,
       "version_minor": 0
      },
      "text/plain": [
       "HBox(children=(FloatProgress(value=0.0, max=235.0), HTML(value='')))"
      ]
     },
     "metadata": {},
     "output_type": "display_data"
    },
    {
     "name": "stdout",
     "output_type": "stream",
     "text": [
      "\n",
      "Finished\n",
      "Training Base Model on 8\n"
     ]
    },
    {
     "data": {
      "application/vnd.jupyter.widget-view+json": {
       "model_id": "8950e98e91fe4621a8cebda208b95516",
       "version_major": 2,
       "version_minor": 0
      },
      "text/plain": [
       "HBox(children=(FloatProgress(value=0.0, max=235.0), HTML(value='')))"
      ]
     },
     "metadata": {},
     "output_type": "display_data"
    },
    {
     "name": "stdout",
     "output_type": "stream",
     "text": [
      "\n",
      "Finished\n",
      "Training Base Model on 9\n"
     ]
    },
    {
     "data": {
      "application/vnd.jupyter.widget-view+json": {
       "model_id": "a444ce07274d4921a5a215a075960955",
       "version_major": 2,
       "version_minor": 0
      },
      "text/plain": [
       "HBox(children=(FloatProgress(value=0.0, max=235.0), HTML(value='')))"
      ]
     },
     "metadata": {},
     "output_type": "display_data"
    },
    {
     "name": "stdout",
     "output_type": "stream",
     "text": [
      "\n",
      "Finished\n"
     ]
    }
   ],
   "source": [
    "# Train the ensemble of classifiers\n",
    "\n",
    "#classes = [0]\n",
    "criterion = nn.MSELoss()\n",
    "models = {}\n",
    "for c in classes:\n",
    "    models[c] = FCAutoencoder(data_shape, latent_size)\n",
    "    optimizer = optim.Adam(models[c].parameters(), lr=learning_rate)\n",
    "    print(f\"Training Base Model on {c}\")\n",
    "    for epoch in range(num_epochs):\n",
    "        train(models[c], train_loaders[c], criterion, optimizer, verbose=True, epoch_num=epoch+1)\n",
    "    print(f'Finished')"
   ]
  },
  {
   "cell_type": "code",
   "execution_count": 10,
   "metadata": {},
   "outputs": [
    {
     "data": {
      "image/png": "[encoded data removed]",
      "text/plain": [
       "<Figure size 432x288 with 2 Axes>"
      ]
     },
     "metadata": {
      "needs_background": "light"
     },
     "output_type": "display_data"
    },
    {
     "data": {
      "image/png": "[encoded data removed]",
      "text/plain": [
       "<Figure size 432x288 with 2 Axes>"
      ]
     },
     "metadata": {
      "needs_background": "light"
     },
     "output_type": "display_data"
    },
    {
     "data": {
      "image/png": "[encoded data removed]",
      "text/plain": [
       "<Figure size 432x288 with 2 Axes>"
      ]
     },
     "metadata": {
      "needs_background": "light"
     },
     "output_type": "display_data"
    },
    {
     "data": {
      "image/png": "[encoded data removed]",
      "text/plain": [
       "<Figure size 432x288 with 2 Axes>"
      ]
     },
     "metadata": {
      "needs_background": "light"
     },
     "output_type": "display_data"
    },
    {
     "data": {
      "image/png": "[encoded data removed]",
      "text/plain": [
       "<Figure size 432x288 with 2 Axes>"
      ]
     },
     "metadata": {
      "needs_background": "light"
     },
     "output_type": "display_data"
    },
    {
     "data": {
      "image/png": "[encoded data removed]",
      "text/plain": [
       "<Figure size 432x288 with 2 Axes>"
      ]
     },
     "metadata": {
      "needs_background": "light"
     },
     "output_type": "display_data"
    },
    {
     "data": {
      "image/png": "[encoded data removed]",
      "text/plain": [
       "<Figure size 432x288 with 2 Axes>"
      ]
     },
     "metadata": {
      "needs_background": "light"
     },
     "output_type": "display_data"
    },
    {
     "data": {
      "image/png": "[encoded data removed]",
      "text/plain": [
       "<Figure size 432x288 with 2 Axes>"
      ]
     },
     "metadata": {
      "needs_background": "light"
     },
     "output_type": "display_data"
    },
    {
     "data": {
      "image/png": "[encoded data removed]",
      "text/plain": [
       "<Figure size 432x288 with 2 Axes>"
      ]
     },
     "metadata": {
      "needs_background": "light"
     },
     "output_type": "display_data"
    },
    {
     "data": {
      "image/png": "[encoded data removed]",
      "text/plain": [
       "<Figure size 432x288 with 2 Axes>"
      ]
     },
     "metadata": {
      "needs_background": "light"
     },
     "output_type": "display_data"
    }
   ],
   "source": [
    "\n",
    "for c in classes:\n",
    "    X,_ = next(iter(test_loaders[c]))\n",
    "    y = models[c](X)\n",
    "    \n",
    "    if data == 'mnist':\n",
    "        img_x = X[0].squeeze().detach().numpy()\n",
    "        img_y = y[0].squeeze().detach().numpy()\n",
    "    elif data =='cifar10':\n",
    "        img_x = X[0].detach().numpy().transpose(1,2,0)\n",
    "        img_y = y[0].detach().numpy().transpose(1,2,0)\n",
    "        \n",
    "    fig, ax = plt.subplots(1,2)\n",
    "    ax[0].imshow(img_x)\n",
    "    ax[1].imshow(img_y)\n",
    "    plt.show()\n"
   ]
  },
  {
   "cell_type": "code",
   "execution_count": 11,
   "metadata": {},
   "outputs": [],
   "source": [
    "classifier = AutoencoderEnsembleClassifier( list(models.values()), lambda r,x: nn.MSELoss(r,x).item(), 0)"
   ]
  },
  {
   "cell_type": "code",
   "execution_count": 12,
   "metadata": {},
   "outputs": [
    {
     "name": "stdout",
     "output_type": "stream",
     "text": [
      "0 : 0.98%\n",
      "1 : 0.98%\n",
      "2 : 0.98%\n",
      "3 : 0.96%\n",
      "4 : 0.99%\n",
      "5 : 0.97%\n",
      "6 : 0.98%\n",
      "7 : 0.96%\n",
      "8 : 0.94%\n",
      "9 : 0.94%\n",
      "Total: 0.97\n"
     ]
    }
   ],
   "source": [
    "for c in classes:\n",
    "    acc = test(classifier, test_loaders[c])\n",
    "    print(f'{c} : {acc:0.2f}%')\n",
    "\n",
    "\n",
    "total_acc = test(classifier, test_loader)\n",
    "print(f'Total: {total_acc:0.2f}')"
   ]
  },
  {
   "cell_type": "code",
   "execution_count": null,
   "metadata": {
    "colab": {
     "base_uri": "https://localhost:8080/",
     "height": 282
    },
    "colab_type": "code",
    "id": "hwdshJQB9YrQ",
    "outputId": "c67d4ab3-5901-4488-952a-136c00ec9a1b"
   },
   "outputs": [],
   "source": []
  },
  {
   "cell_type": "code",
   "execution_count": null,
   "metadata": {
    "colab": {},
    "colab_type": "code",
    "id": "8Jt3Nr5G6gjw"
   },
   "outputs": [],
   "source": []
  }
 ],
 "metadata": {
  "colab": {
   "collapsed_sections": [],
   "name": "autoencoder_ensemble.ipynb",
   "provenance": []
  },
  "kernelspec": {
   "display_name": "Python 3",
   "language": "python",
   "name": "python3"
  },
  "language_info": {
   "codemirror_mode": {
    "name": "ipython",
    "version": 3
   },
   "file_extension": ".py",
   "mimetype": "text/x-python",
   "name": "python",
   "nbconvert_exporter": "python",
   "pygments_lexer": "ipython3",
   "version": "3.7.3"
  }
 },
 "nbformat": 4,
 "nbformat_minor": 4
}
